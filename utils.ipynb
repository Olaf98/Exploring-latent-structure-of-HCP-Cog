{
 "cells": [
  {
   "cell_type": "code",
   "execution_count": null,
   "id": "36da97f6",
   "metadata": {},
   "outputs": [],
   "source": [
    "from scipy.stats import skew, kurtosis\n",
    "\n",
    "def plot_dist(data):\n",
    "    skewness = skew(data, axis=0)\n",
    "    kurt = kurtosis(data, axis=0)\n",
    "    fig, axs = plt.subplots(nrows=1, ncols=len(data.columns), figsize=(45,5))\n",
    "\n",
    "    high_skew_cols = [col for col in data.columns if abs(data[col].skew()) > 2]\n",
    "    high_kurt_cols = [col for col in data.columns if abs(data[col].kurtosis()) > 7]\n",
    "\n",
    "    for i, col in enumerate(data.columns):\n",
    "        sns.histplot(data[col], ax=axs[i])\n",
    "        axs[i].set_title(f'{col}\\n Skew: {data[col].skew():.2f}, Kurtosis: {data[col].kurtosis():.2f}')\n",
    "\n",
    "    plt.tight_layout()\n",
    "    plt.show()\n",
    "    return high_skew_cols, high_kurt_cols"
   ]
  },
  {
   "cell_type": "code",
   "execution_count": null,
   "id": "e32f2133",
   "metadata": {},
   "outputs": [],
   "source": [
    "def visualize_loadings(loadings, columns ,ordered = False, save = False):\n",
    "    #sns.set(rc={'figure.figsize':(25,25)})\n",
    "    sorted_indices = np.argsort(loadings[:, 0])\n",
    "    l_ordered = loadings[sorted_indices,:]\n",
    "    ax=sns.heatmap(l_ordered, cmap=\"coolwarm_r\", center=0, yticklabels=columns[sorted_indices])\n",
    "    ax.set_yticklabels(ax.get_ymajorticklabels(),rotation=0, fontsize=10)\n",
    "\n",
    "    plt.show()"
   ]
  },
  {
   "cell_type": "code",
   "execution_count": null,
   "id": "e29a9be1",
   "metadata": {},
   "outputs": [],
   "source": []
  }
 ],
 "metadata": {
  "kernelspec": {
   "display_name": "Python 3 (ipykernel)",
   "language": "python",
   "name": "python3"
  },
  "language_info": {
   "codemirror_mode": {
    "name": "ipython",
    "version": 3
   },
   "file_extension": ".py",
   "mimetype": "text/x-python",
   "name": "python",
   "nbconvert_exporter": "python",
   "pygments_lexer": "ipython3",
   "version": "3.9.13"
  }
 },
 "nbformat": 4,
 "nbformat_minor": 5
}
