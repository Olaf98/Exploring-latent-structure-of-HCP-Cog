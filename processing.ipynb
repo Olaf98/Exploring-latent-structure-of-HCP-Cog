{
 "cells": [
  {
   "cell_type": "code",
   "execution_count": 5,
   "id": "8e0df7e3",
   "metadata": {},
   "outputs": [],
   "source": [
    "from sklearn.experimental import enable_iterative_imputer\n",
    "from sklearn.impute import IterativeImputer\n",
    "from sklearn.impute import KNNImputer\n",
    "\n",
    "def NaN_rep(data):\n",
    "    nan=data.isnull().sum()\n",
    "    print('Number of missing value from each variable:')\n",
    "    print(nan)\n",
    "    imputer=KNNImputer(n_neighbors=3)\n",
    "    nn=imputer.fit_transform(data)\n",
    "    impdata=pd.DataFrame(nn, columns=data.columns)\n",
    "\n",
    "    return impdata"
   ]
  },
  {
   "cell_type": "code",
   "execution_count": 6,
   "id": "b656032c",
   "metadata": {},
   "outputs": [],
   "source": [
    "def RT_invert(data):\n",
    "    \n",
    "    RT_mask = (data.columns.str.contains('RT') | data.columns.str.contains('VSPLOT_OFF'))\n",
    "    data.loc[:, RT_mask] *=-1\n",
    "    print(data.loc[:, RT_mask].columns)\n",
    "    \n",
    "    return data"
   ]
  },
  {
   "cell_type": "code",
   "execution_count": 11,
   "id": "26adc410",
   "metadata": {},
   "outputs": [],
   "source": [
    "def split(data):\n",
    "# Replace age ranges with numerical values\n",
    "    age_map = {'22-25': 23, '26-30': 29, '31-35': 33, '36+': 36}\n",
    "    data['Age_cat'] = data['Age'].map(age_map)\n",
    "\n",
    "    train_df = pd.concat([group.iloc[:len(group)//2] for name, group in data.groupby(['Gender', 'Age_cat'])])\n",
    "    test_df = data.drop(train_df.index)\n",
    "    #drop the extra column\n",
    "    train_df.drop('Age_cat',axis=1,inplace=True)\n",
    "    test_df.drop('Age_cat',axis=1,inplace=True)\n",
    "    return train_df,test_df"
   ]
  },
  {
   "cell_type": "code",
   "execution_count": 16,
   "id": "a75e0665",
   "metadata": {},
   "outputs": [],
   "source": [
    "def Z_Score(data,plot):\n",
    "    \n",
    "    mean = data.mean().values\n",
    "    sd = data.std().values\n",
    "    data_norm = ((data-mean)/sd)\n",
    "    #plot\n",
    "    if plot:\n",
    "        fig = plt.figure()\n",
    "        data_norm.boxplot(rot=90)\n",
    "        plt.xticks(rotation=90)\n",
    "        plt.show()\n",
    "    return data_norm"
   ]
  },
  {
   "cell_type": "code",
   "execution_count": 3,
   "id": "0b482b2e",
   "metadata": {},
   "outputs": [],
   "source": [
    "def outliers_filter(data, plot, threshold):\n",
    "    \n",
    "    #mean = data.mean().values\n",
    "    #sd = data.std().values\n",
    "    #data_norm = ((data-mean)/sd)\n",
    "    outlier_mask = (np.abs(data) > threshold).any(axis=1)\n",
    "    df_clean = data[~outlier_mask]\n",
    "    if plot:\n",
    "        df_clean.boxplot(rot=90)\n",
    "        plt.xticks(rotation=90)\n",
    "        plt.show()\n",
    "    return df_clean"
   ]
  },
  {
   "cell_type": "code",
   "execution_count": 5,
   "id": "363070db",
   "metadata": {},
   "outputs": [],
   "source": [
    "from statsmodels.stats.outliers_influence import variance_inflation_factor\n",
    "\n",
    "def calculate_vif(dataframe):\n",
    "    vif_data = pd.DataFrame()\n",
    "    vif_data[\"Feature\"] = dataframe.columns\n",
    "    vif_data[\"VIF\"] = [variance_inflation_factor(dataframe.values, i) for i in range(len(dataframe.columns))]\n",
    "    return vif_data\n"
   ]
  },
  {
   "cell_type": "code",
   "execution_count": 4,
   "id": "0a33a436",
   "metadata": {},
   "outputs": [],
   "source": [
    "#%% regressing out age and gender\n",
    "from sklearn.linear_model import LinearRegression\n",
    "def regress_demo(x, data):\n",
    "    \n",
    "    #mean = data.mean().values\n",
    "    #sd = data.std().values\n",
    "    #y = ((data-mean)/sd)\n",
    "    # fit regression model\n",
    "    y=data\n",
    "    reg = LinearRegression().fit(x,y)\n",
    "    print(reg.score(x, y))\n",
    "    # predict values based on model\n",
    "    pred = reg.predict(x)\n",
    "    data_res = y-pred\n",
    "    return data_res"
   ]
  },
  {
   "cell_type": "code",
   "execution_count": null,
   "id": "35f59cfe",
   "metadata": {},
   "outputs": [],
   "source": []
  },
  {
   "cell_type": "code",
   "execution_count": null,
   "id": "93b7775c",
   "metadata": {},
   "outputs": [],
   "source": []
  }
 ],
 "metadata": {
  "kernelspec": {
   "display_name": "Python 3 (ipykernel)",
   "language": "python",
   "name": "python3"
  },
  "language_info": {
   "codemirror_mode": {
    "name": "ipython",
    "version": 3
   },
   "file_extension": ".py",
   "mimetype": "text/x-python",
   "name": "python",
   "nbconvert_exporter": "python",
   "pygments_lexer": "ipython3",
   "version": "3.9.13"
  }
 },
 "nbformat": 4,
 "nbformat_minor": 5
}
